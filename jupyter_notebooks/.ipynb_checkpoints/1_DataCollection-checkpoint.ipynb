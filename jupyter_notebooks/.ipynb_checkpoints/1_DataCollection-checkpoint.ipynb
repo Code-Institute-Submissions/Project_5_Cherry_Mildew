{
 "cells": [
  {
   "cell_type": "markdown",
   "id": "afedc49d",
   "metadata": {},
   "source": [
    "# Data Collection"
   ]
  },
  {
   "cell_type": "markdown",
   "id": "9990ace9",
   "metadata": {},
   "source": [
    "## Objectives"
   ]
  },
  {
   "cell_type": "markdown",
   "id": "cb0f29b5",
   "metadata": {},
   "source": [
    "- Getting dataset from Kaggle \n",
    "- Cleaning the data and preparing it for the next steps"
   ]
  },
  {
   "cell_type": "markdown",
   "id": "183e0d48",
   "metadata": {},
   "source": [
    "## Inputs\n"
   ]
  },
  {
   "cell_type": "markdown",
   "id": "c584f94d",
   "metadata": {},
   "source": [
    "- Kaggle JSON authentication file"
   ]
  },
  {
   "cell_type": "markdown",
   "id": "935bbe7e",
   "metadata": {},
   "source": [
    "## Outputs"
   ]
  },
  {
   "cell_type": "markdown",
   "id": "44ce334c",
   "metadata": {},
   "source": [
    "- Train, test and validation sets in inputs/datasets/cherry_leaves_dataset"
   ]
  },
  {
   "cell_type": "markdown",
   "id": "180a4273",
   "metadata": {},
   "source": [
    "## Setting up the Environment"
   ]
  },
  {
   "cell_type": "markdown",
   "id": "cbbb48a5",
   "metadata": {},
   "source": [
    "### Change working directory"
   ]
  },
  {
   "cell_type": "code",
   "execution_count": 1,
   "id": "4a1816b2",
   "metadata": {},
   "outputs": [
    {
     "data": {
      "text/plain": [
       "'/workspaces/Project_5_Cherry_Mildew'"
      ]
     },
     "execution_count": 1,
     "metadata": {},
     "output_type": "execute_result"
    }
   ],
   "source": [
    "import os\n",
    "os.chdir(os.path.dirname(os.getcwd()))\n",
    "current_dir = os.getcwd()\n",
    "current_dir"
   ]
  },
  {
   "cell_type": "markdown",
   "id": "24667ba6",
   "metadata": {},
   "source": [
    "### Installing Kaggle"
   ]
  },
  {
   "cell_type": "code",
   "execution_count": 2,
   "id": "aab4ed2f",
   "metadata": {
    "scrolled": true
   },
   "outputs": [
    {
     "name": "stdout",
     "output_type": "stream",
     "text": [
      "Requirement already satisfied: kaggle in /home/codeany/.local/lib/python3.8/site-packages (1.5.13)\n",
      "Requirement already satisfied: six>=1.10 in /home/codeany/.pyenv/versions/3.8.12/lib/python3.8/site-packages (from kaggle) (1.16.0)\n",
      "Requirement already satisfied: certifi in /home/codeany/.pyenv/versions/3.8.12/lib/python3.8/site-packages (from kaggle) (2023.5.7)\n",
      "Requirement already satisfied: python-dateutil in /home/codeany/.pyenv/versions/3.8.12/lib/python3.8/site-packages (from kaggle) (2.8.2)\n",
      "Requirement already satisfied: requests in /home/codeany/.pyenv/versions/3.8.12/lib/python3.8/site-packages (from kaggle) (2.31.0)\n",
      "Requirement already satisfied: tqdm in /home/codeany/.local/lib/python3.8/site-packages (from kaggle) (4.65.0)\n",
      "Requirement already satisfied: python-slugify in /home/codeany/.local/lib/python3.8/site-packages (from kaggle) (8.0.1)\n",
      "Requirement already satisfied: urllib3 in /home/codeany/.pyenv/versions/3.8.12/lib/python3.8/site-packages (from kaggle) (2.0.2)\n",
      "Requirement already satisfied: text-unidecode>=1.3 in /home/codeany/.local/lib/python3.8/site-packages (from python-slugify->kaggle) (1.3)\n",
      "Requirement already satisfied: charset-normalizer<4,>=2 in /home/codeany/.pyenv/versions/3.8.12/lib/python3.8/site-packages (from requests->kaggle) (3.1.0)\n",
      "Requirement already satisfied: idna<4,>=2.5 in /home/codeany/.pyenv/versions/3.8.12/lib/python3.8/site-packages (from requests->kaggle) (3.4)\n"
     ]
    }
   ],
   "source": [
    "! pip install kaggle"
   ]
  },
  {
   "cell_type": "markdown",
   "id": "8e4155d2",
   "metadata": {},
   "source": [
    "Changeing Kaggle configuration directory to the current working directory and setting permissions for the Kaggle authentication"
   ]
  },
  {
   "cell_type": "code",
   "execution_count": 3,
   "id": "a01f2ebc",
   "metadata": {},
   "outputs": [
    {
     "name": "stdout",
     "output_type": "stream",
     "text": [
      "/workspaces/Project_5_Cherry_Mildew\n"
     ]
    }
   ],
   "source": [
    "os.environ['KAGGLE_CONFIG_DIR'] = os.getcwd()\n",
    "print(os.environ['KAGGLE_CONFIG_DIR'])\n",
    "! chmod 600 kaggle.json"
   ]
  },
  {
   "cell_type": "markdown",
   "id": "fb805599",
   "metadata": {},
   "source": [
    "### Downloading data and storing it"
   ]
  },
  {
   "cell_type": "code",
   "execution_count": 4,
   "id": "16f964f4",
   "metadata": {},
   "outputs": [
    {
     "name": "stdout",
     "output_type": "stream",
     "text": [
      "Downloading cherry-leaves.zip to inputs/cherry_leaves_dataset\n",
      " 89%|█████████████████████████████████▊    | 49.0M/55.0M [00:00<00:00, 59.9MB/s]\n",
      "100%|██████████████████████████████████████| 55.0M/55.0M [00:00<00:00, 66.4MB/s]\n"
     ]
    }
   ],
   "source": [
    "KaggleDatasetPath = \"codeinstitute/cherry-leaves\"\n",
    "DestinationFolder = \"inputs/cherry_leaves_dataset\"\n",
    "! kaggle datasets download -d {KaggleDatasetPath} -p {DestinationFolder}"
   ]
  },
  {
   "cell_type": "code",
   "execution_count": 5,
   "id": "bc20605d",
   "metadata": {},
   "outputs": [],
   "source": [
    "import zipfile\n",
    "with zipfile.ZipFile(DestinationFolder + '/cherry-leaves.zip', 'r') as zip_ref:\n",
    "    zip_ref.extractall(DestinationFolder)\n",
    "        \n",
    "os.remove(DestinationFolder + '/cherry-leaves.zip')"
   ]
  },
  {
   "cell_type": "markdown",
   "id": "c0ed1d27",
   "metadata": {},
   "source": [
    "## Pushing changes and folowing steps"
   ]
  },
  {
   "cell_type": "markdown",
   "id": "64ea5441",
   "metadata": {},
   "source": [
    "- Data was collected and stored in inputs folder.\n",
    "- Pushed changes to Github."
   ]
  },
  {
   "cell_type": "code",
   "execution_count": null,
   "id": "2d1d5d44",
   "metadata": {},
   "outputs": [],
   "source": []
  }
 ],
 "metadata": {
  "kernelspec": {
   "display_name": "Python 3 (ipykernel)",
   "language": "python",
   "name": "python3"
  },
  "language_info": {
   "codemirror_mode": {
    "name": "ipython",
    "version": 3
   },
   "file_extension": ".py",
   "mimetype": "text/x-python",
   "name": "python",
   "nbconvert_exporter": "python",
   "pygments_lexer": "ipython3",
   "version": "3.8.12"
  }
 },
 "nbformat": 4,
 "nbformat_minor": 5
}
