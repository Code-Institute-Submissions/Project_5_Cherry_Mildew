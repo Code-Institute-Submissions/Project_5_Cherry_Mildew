{
 "cells": [
  {
   "cell_type": "markdown",
   "id": "270cfab9",
   "metadata": {},
   "source": [
    "# Data  Preparation"
   ]
  },
  {
   "cell_type": "markdown",
   "id": "443b285e",
   "metadata": {},
   "source": [
    "## Objectives"
   ]
  },
  {
   "cell_type": "markdown",
   "id": "3ea2b6fc",
   "metadata": {},
   "source": [
    "- Clean the data to remove non images\n",
    "- Split the data into train 70%, test 20%, and validation 10% sets\n",
    "- Resize images to get a uniform dataset"
   ]
  },
  {
   "cell_type": "markdown",
   "id": "36a35b8e",
   "metadata": {},
   "source": [
    "## Inputs\n"
   ]
  },
  {
   "cell_type": "markdown",
   "id": "4ef32471",
   "metadata": {},
   "source": [
    "- Cherry Leaves dataset collected and stored in inputs/cherry_leaves_dataset"
   ]
  },
  {
   "cell_type": "markdown",
   "id": "4041f3af",
   "metadata": {},
   "source": [
    "## Outputs\n"
   ]
  },
  {
   "cell_type": "markdown",
   "id": "e73020b6",
   "metadata": {},
   "source": [
    "- Plot showing the data balance and image size variation"
   ]
  },
  {
   "cell_type": "markdown",
   "id": "d725c2f9",
   "metadata": {},
   "source": [
    "## Changing work directory"
   ]
  },
  {
   "cell_type": "code",
   "execution_count": 1,
   "id": "dfce9a99",
   "metadata": {},
   "outputs": [
    {
     "data": {
      "text/plain": [
       "'/workspaces/Project_5_Cherry_Mildew'"
      ]
     },
     "execution_count": 1,
     "metadata": {},
     "output_type": "execute_result"
    }
   ],
   "source": [
    "import os\n",
    "os.chdir(os.path.dirname(os.getcwd()))\n",
    "current_dir = os.getcwd()\n",
    "current_dir"
   ]
  },
  {
   "cell_type": "code",
   "execution_count": 2,
   "id": "eedef491",
   "metadata": {},
   "outputs": [],
   "source": [
    "data_dir = '/workspaces/Project_5_Cherry_Mildew/inputs/cherry_leaves_dataset/cherry-leaves'"
   ]
  },
  {
   "cell_type": "code",
   "execution_count": 3,
   "id": "6cbf4aa6",
   "metadata": {},
   "outputs": [],
   "source": [
    "output_dir = 'folder_output'"
   ]
  },
  {
   "cell_type": "code",
   "execution_count": 4,
   "id": "37349050",
   "metadata": {},
   "outputs": [
    {
     "name": "stdout",
     "output_type": "stream",
     "text": [
      "Current output folder is folder_output. Make a new one\n"
     ]
    }
   ],
   "source": [
    "if 'output' not in os.listdir(current_dir):\n",
    "    os.makedirs(name='output')\n",
    "        \n",
    "def create_output_dir(output_dir):\n",
    "    try:\n",
    "        os.makedirs(name=f'output/{output_dir}')\n",
    "        print(f'Current output folder is {output_dir}')\n",
    "        return f'output/{output_dir}'\n",
    "    except:\n",
    "        print(f'Current output folder is {output_dir}. Make a new one')\n",
    "        return f'output/{output_dir}'\n",
    "version_output = create_output_dir(output_dir)"
   ]
  },
  {
   "cell_type": "markdown",
   "id": "da362bce",
   "metadata": {},
   "source": [
    "## Data Preparation"
   ]
  },
  {
   "cell_type": "markdown",
   "id": "d626c40f",
   "metadata": {},
   "source": [
    "### Data cleaning"
   ]
  },
  {
   "cell_type": "code",
   "execution_count": 5,
   "id": "4b8fd496",
   "metadata": {},
   "outputs": [
    {
     "name": "stdout",
     "output_type": "stream",
     "text": [
      "inputs/cherry_leaves_dataset/cherry-leaves/healthy had 0 non image files before removal\n",
      "inputs/cherry_leaves_dataset/cherry-leaves/powdery_mildew had 0 non image files before removal\n"
     ]
    }
   ],
   "source": [
    "### Filtering out the non image files ###\n",
    "\n",
    "healthy_leaves='inputs/cherry_leaves_dataset/cherry-leaves/healthy'\n",
    "powdery_mildew='inputs/cherry_leaves_dataset/cherry-leaves/powdery_mildew'\n",
    "file_extension = ('.png', '.jpg', '.jpeg')\n",
    "\n",
    "def non_imgs(folder):\n",
    "    files = os.listdir(folder)\n",
    "    non_img_counter = 0\n",
    "    for file in files:\n",
    "        if not file.lower().endswith(file_extension):\n",
    "            file_path = folder + '/' + file\n",
    "            os.remove(file_path)\n",
    "            non_img_counter =+ 1\n",
    "        else:\n",
    "            pass\n",
    "    print(f\"{folder} had {non_img_counter} non image files before removal\")\n",
    "                                                    \n",
    "non_imgs(healthy_leaves)\n",
    "non_imgs(powdery_mildew)"
   ]
  },
  {
   "cell_type": "markdown",
   "id": "30c826cb",
   "metadata": {},
   "source": [
    "## Splitting data"
   ]
  },
  {
   "cell_type": "markdown",
   "id": "ebc4857b",
   "metadata": {},
   "source": [
    "Splittting data into train, test and valdation sets"
   ]
  },
  {
   "cell_type": "code",
   "execution_count": 6,
   "id": "5a1771bd",
   "metadata": {},
   "outputs": [
    {
     "name": "stdout",
     "output_type": "stream",
     "text": [
      "Data ratio is set.\n"
     ]
    }
   ],
   "source": [
    "train_set_ratio = 0.7\n",
    "validation_set_ratio = 0.1\n",
    "test_set_ratio = 0.2\n",
    "\n",
    "ratio_sum = round(train_set_ratio + validation_set_ratio + test_set_ratio, 2)\n",
    "if not ratio_sum == 1:\n",
    "    print(f'WARNING: The sum of the ratios must be 1. Please make the necessary adjustments.')\n",
    "else:\n",
    "    print('Data ratio is set.')\n",
    "\n",
    "data_labels = os.listdir(data_dir)\n",
    "folder_names = ['train', 'validation', 'test']\n",
    "\n",
    "for foldername in folder_names:\n",
    "    for data_label in data_labels:\n",
    "        os.makedirs(name=data_dir + '/' + foldername + '/' + data_label)"
   ]
  },
  {
   "cell_type": "code",
   "execution_count": 7,
   "id": "c7b457f9",
   "metadata": {},
   "outputs": [],
   "source": [
    "### move the data to the new folders and delete the previous folders ###\n",
    "import shutil\n",
    "import random\n",
    "\n",
    "for data_label in data_labels:\n",
    "    data = os.listdir(data_dir + '/' + data_label)\n",
    "    random.shuffle(data)\n",
    "            \n",
    "    train_data_lenght = round(len(data) * train_set_ratio)\n",
    "    validation_data_lenght = round(len(data) * validation_set_ratio)\n",
    "                        \n",
    "    for img in data:\n",
    "        if len(os.listdir(data_dir + '/train/' + data_label)) <= train_data_lenght:\n",
    "            shutil.move(data_dir + '/' + data_label + '/' + img,\n",
    "                        data_dir + '/train/' + data_label + '/' + img)\n",
    "        elif len(os.listdir(data_dir + '/validation/' + data_label)) <= validation_data_lenght:\n",
    "            shutil.move(data_dir + '/' + data_label + '/' + img,\n",
    "                        data_dir + '/validation/' + data_label + '/' + img)           \n",
    "        else:\n",
    "            shutil.move(data_dir + '/' + data_label + '/' + img,\n",
    "                        data_dir + '/test/' + data_label + '/' + img)\n",
    "                                                                    \n",
    "    os.rmdir(data_dir + '/' + data_label)"
   ]
  },
  {
   "cell_type": "markdown",
   "id": "30e4444a",
   "metadata": {},
   "source": [
    "## Checking data for data inbalance"
   ]
  },
  {
   "cell_type": "code",
   "execution_count": 8,
   "id": "113bd131",
   "metadata": {},
   "outputs": [
    {
     "data": {
      "image/png": "[encoded data removed]",
      "text/plain": [
       "<Figure size 640x480 with 1 Axes>"
      ]
     },
     "metadata": {},
     "output_type": "display_data"
    }
   ],
   "source": [
    "import matplotlib.pyplot as plt\n",
    "import numpy as np\n",
    "\n",
    "train_healthy = len(os.listdir(data_dir + '/train/healthy'))\n",
    "train_mildew = len(os.listdir(data_dir + '/train/powdery_mildew'))\n",
    "validation_healthy = len(os.listdir(data_dir + '/validation/healthy'))\n",
    "validation_mildew = len(os.listdir(data_dir + '/validation/powdery_mildew'))\n",
    "test_healthy = len(os.listdir(data_dir + '/test/healthy'))\n",
    "test_mildew = len(os.listdir(data_dir + '/test/powdery_mildew'))\n",
    "\n",
    "dataset = ('Train', 'Validation', 'Test')\n",
    "penguin_means = {\n",
    "    'Healthy': (train_healthy, validation_healthy, test_healthy),\n",
    "    'Powdery Mildew': (train_mildew, validation_mildew, test_mildew),\n",
    "}\n",
    "\n",
    "x = np.arange(len(dataset))  # the label locations\n",
    "width = 0.3  # width of the bars\n",
    "multiplier = 0\n",
    "\n",
    "fig, ax = plt.subplots(layout=None)\n",
    "\n",
    "for attribute, measurement in penguin_means.items():\n",
    "    offset = width * multiplier\n",
    "    rects = ax.bar(x + offset, measurement, width, label=attribute)\n",
    "    ax.bar_label(rects, padding=3)\n",
    "    multiplier += 1\n",
    "\n",
    "# Add some text for labels, title and custom x-axis tick labels, etc.\n",
    "ax.set_ylabel('Number of images')\n",
    "ax.set_title('Number images for label')\n",
    "ax.set_xticks(x + (width/2), dataset)\n",
    "ax.legend(loc='upper left', ncols=3)\n",
    "ax.set_ylim(0, 2000)\n",
    "plt.savefig(fname=version_output+'/dataset_balance')\n",
    "plt.show()\n"
   ]
  },
  {
   "cell_type": "markdown",
   "id": "cf00b978",
   "metadata": {},
   "source": [
    "## Checking image size"
   ]
  },
  {
   "cell_type": "code",
   "execution_count": 9,
   "id": "2a68b77f",
   "metadata": {},
   "outputs": [],
   "source": [
    "import numpy as np\n",
    "import pandas as pd\n",
    "import seaborn as sns\n",
    "sns.set_style(\"whitegrid\")\n",
    "import joblib\n",
    "\n",
    "from matplotlib.image import imread"
   ]
  },
  {
   "cell_type": "code",
   "execution_count": 10,
   "id": "51e082dd",
   "metadata": {},
   "outputs": [],
   "source": [
    "img_width, img_height = [], []\n",
    "subset_dirs = ['/train/', '/validation/', '/test/']\n",
    "for folder in subset_dirs:\n",
    "    for label in data_labels:\n",
    "        for img_file in os.listdir(data_dir + folder + label):\n",
    "            img = imread(data_dir + folder + label + '/' + img_file, 0)\n",
    "            img_shape = img.shape\n",
    "            img_width.append(img_shape[1])\n",
    "            img_height.append(img_shape[0])\n",
    "                                    \n",
    "                                    \n"
   ]
  },
  {
   "cell_type": "code",
   "execution_count": 11,
   "id": "3c11a2d5",
   "metadata": {},
   "outputs": [
    {
     "data": {
      "image/png": "[encoded data removed]",
      "text/plain": [
       "<Figure size 640x480 with 1 Axes>"
      ]
     },
     "metadata": {},
     "output_type": "display_data"
    },
    {
     "name": "stdout",
     "output_type": "stream",
     "text": [
      "Width average: 256 \n",
      "Height average: 256\n"
     ]
    }
   ],
   "source": [
    "fig, axes = plt.subplots()\n",
    "sns.scatterplot(x=img_width, y=img_height, alpha=0.2)\n",
    "axes.set_title('Scatter for all images by Height / Width')\n",
    "axes.set_xlabel(\"Width]\")\n",
    "axes.set_ylabel(\"Height\")\n",
    "img_width_mean = int(np.array(img_width).mean())\n",
    "img_height_mean = int(np.array(img_height).mean())\n",
    "axes.axvline(x=img_width_mean,color='gray', linestyle='--')\n",
    "axes.axhline(y=img_height_mean,color='gray', linestyle='--')\n",
    "plt.savefig(fname=version_output+'/scatterplot_img_sizes')\n",
    "\n",
    "\n",
    "plt.show()\n",
    "print(f\"Width average: {img_width_mean} \\nHeight average: {img_height_mean}\")"
   ]
  },
  {
   "cell_type": "markdown",
   "id": "21777fbe",
   "metadata": {},
   "source": [
    "## Pushing changes and folowing steps"
   ]
  },
  {
   "cell_type": "code",
   "execution_count": null,
   "id": "bd0defc6",
   "metadata": {},
   "outputs": [],
   "source": [
    " - Since the images are the same size and "
   ]
  }
 ],
 "metadata": {
  "kernelspec": {
   "display_name": "Python 3 (ipykernel)",
   "language": "python",
   "name": "python3"
  },
  "language_info": {
   "codemirror_mode": {
    "name": "ipython",
    "version": 3
   },
   "file_extension": ".py",
   "mimetype": "text/x-python",
   "name": "python",
   "nbconvert_exporter": "python",
   "pygments_lexer": "ipython3",
   "version": "3.8.12"
  }
 },
 "nbformat": 4,
 "nbformat_minor": 5
}
